{
 "cells": [
  {
   "cell_type": "markdown",
   "metadata": {},
   "source": [
    "<h1>Scraping fidelity.com</h1>\n",
    "In this document, I wrote a function to get the latest sector performance data from the US markets, and to get the total market capitalization for each sector. \n",
    "\n",
    "The end result is a function: get_us_sector_performance() that will return a list of tuples. Each tuple should correspond to a sector and should contain the following data:\n",
    "\n",
    "the sector name\n",
    "the amount the sector has moved\n",
    "the market capitalization of the sector\n",
    "the market weight of the sector\n",
    "a link to the fidelity page for that sector\n",
    "The data should be sorted by decreasing order of market weight. I.e., the sector with the highest weight should be in the first tuple, etc."
   ]
  },
  {
   "cell_type": "code",
   "execution_count": 1,
   "metadata": {},
   "outputs": [],
   "source": [
    "def get_us_sector_performance():\n",
    "    output_list = list()\n",
    "    url = \"https://eresearch.fidelity.com/eresearch/goto/markets_sectors/landing.jhtml\"\n",
    "\n",
    "    import requests\n",
    "    from bs4 import BeautifulSoup\n",
    "    \n",
    "    response = requests.get(url)\n",
    "    \n",
    "    if not response.status_code == 200:\n",
    "        return recipe_list\n",
    "    \n",
    "    results_page = BeautifulSoup(response.content)\n",
    "    sectors = results_page.find_all('a',{'class':'heading1'})\n",
    "    \n",
    "    for sector in sectors:\n",
    "        \n",
    "        sector_page_link = \"https://eresearch.fidelity.com\" + sector.get('href')\n",
    "        \n",
    "        sector_name = sector.find('strong').get_text()\n",
    "        \n",
    "        sector_change,sector_market_cap,sector_market_weight = get_sector_change_and_market_cap(sector_page_link)\n",
    "        output_list.append((sector_name,sector_change,sector_market_cap,sector_market_weight,sector_page_link))\n",
    "        \n",
    "        output_list.sort(key=lambda k: k[3], reverse=True) \n",
    "        \n",
    "    return output_list\n",
    "    "
   ]
  },
  {
   "cell_type": "code",
   "execution_count": 3,
   "metadata": {},
   "outputs": [],
   "source": [
    "def get_sector_change_and_market_cap(sector_page_link):\n",
    "    \n",
    "    import requests\n",
    "    from bs4 import BeautifulSoup\n",
    "    \n",
    "    response = requests.get(sector_page_link)\n",
    "    soup = BeautifulSoup(response.text)\n",
    "    content = soup.find_all('tbody')\n",
    "    \n",
    "    sector_change = content[1].find_all('span')[0].get_text()\n",
    "    sector_market_cap = content[1].find_all('span')[2].get_text()\n",
    "    sector_market_weight = float(content[1].find_all('span')[4].get_text().strip('%'))\n",
    "    \n",
    "    return sector_change,sector_market_cap,sector_market_weight"
   ]
  },
  {
   "cell_type": "code",
   "execution_count": 5,
   "metadata": {},
   "outputs": [
    {
     "data": {
      "text/plain": [
       "('-1.31%', '$8.12T', 11.75)"
      ]
     },
     "execution_count": 5,
     "metadata": {},
     "output_type": "execute_result"
    }
   ],
   "source": [
    "#Test get_sector_change_and_market_cap()\n",
    "link = \"https://eresearch.fidelity.com/eresearch/markets_sectors/sectors/sectors_in_market.jhtml?tab=learn&sector=25\"\n",
    "get_sector_change_and_market_cap(link)"
   ]
  },
  {
   "cell_type": "code",
   "execution_count": 6,
   "metadata": {},
   "outputs": [
    {
     "data": {
      "text/plain": [
       "[('Information Technology',\n",
       "  '-1.93%',\n",
       "  '$14.58T',\n",
       "  27.08,\n",
       "  'https://eresearch.fidelity.com/eresearch/markets_sectors/sectors/sectors_in_market.jhtml?tab=learn&sector=45'),\n",
       " ('Health Care',\n",
       "  '-0.04%',\n",
       "  '$8.25T',\n",
       "  14.33,\n",
       "  'https://eresearch.fidelity.com/eresearch/markets_sectors/sectors/sectors_in_market.jhtml?tab=learn&sector=35'),\n",
       " ('Consumer Discretionary',\n",
       "  '-1.31%',\n",
       "  '$8.12T',\n",
       "  11.75,\n",
       "  'https://eresearch.fidelity.com/eresearch/markets_sectors/sectors/sectors_in_market.jhtml?tab=learn&sector=25'),\n",
       " ('Financials',\n",
       "  '-0.77%',\n",
       "  '$8.39T',\n",
       "  11.08,\n",
       "  'https://eresearch.fidelity.com/eresearch/markets_sectors/sectors/sectors_in_market.jhtml?tab=learn&sector=40'),\n",
       " ('Communication Services',\n",
       "  '-1.46%',\n",
       "  '$5.50T',\n",
       "  9.27,\n",
       "  'https://eresearch.fidelity.com/eresearch/markets_sectors/sectors/sectors_in_market.jhtml?tab=learn&sector=50'),\n",
       " ('Industrials',\n",
       "  '+0.20%',\n",
       "  '$5.50T',\n",
       "  7.67,\n",
       "  'https://eresearch.fidelity.com/eresearch/markets_sectors/sectors/sectors_in_market.jhtml?tab=learn&sector=20'),\n",
       " ('Consumer Staples',\n",
       "  '+0.28%',\n",
       "  '$4.66T',\n",
       "  6.38,\n",
       "  'https://eresearch.fidelity.com/eresearch/markets_sectors/sectors/sectors_in_market.jhtml?tab=learn&sector=30'),\n",
       " ('Energy',\n",
       "  '+0.84%',\n",
       "  '$3.80T',\n",
       "  4.07,\n",
       "  'https://eresearch.fidelity.com/eresearch/markets_sectors/sectors/sectors_in_market.jhtml?tab=learn&sector=10'),\n",
       " ('Real Estate',\n",
       "  '-0.27%',\n",
       "  '$1.80T',\n",
       "  2.87,\n",
       "  'https://eresearch.fidelity.com/eresearch/markets_sectors/sectors/sectors_in_market.jhtml?tab=learn&sector=60'),\n",
       " ('Utilities',\n",
       "  '+0.38%',\n",
       "  '$1.74T',\n",
       "  2.86,\n",
       "  'https://eresearch.fidelity.com/eresearch/markets_sectors/sectors/sectors_in_market.jhtml?tab=learn&sector=55'),\n",
       " ('Materials',\n",
       "  '+0.03%',\n",
       "  '$2.88T',\n",
       "  2.65,\n",
       "  'https://eresearch.fidelity.com/eresearch/markets_sectors/sectors/sectors_in_market.jhtml?tab=learn&sector=15')]"
      ]
     },
     "execution_count": 6,
     "metadata": {},
     "output_type": "execute_result"
    }
   ],
   "source": [
    "#Test get_us_sector_performance()\n",
    "get_us_sector_performance()\n"
   ]
  }
 ],
 "metadata": {
  "kernelspec": {
   "display_name": "Python 3 (ipykernel)",
   "language": "python",
   "name": "python3"
  },
  "language_info": {
   "codemirror_mode": {
    "name": "ipython",
    "version": 3
   },
   "file_extension": ".py",
   "mimetype": "text/x-python",
   "name": "python",
   "nbconvert_exporter": "python",
   "pygments_lexer": "ipython3",
   "version": "3.9.7"
  },
  "toc": {
   "base_numbering": 1,
   "nav_menu": {},
   "number_sections": true,
   "sideBar": true,
   "skip_h1_title": false,
   "title_cell": "Table of Contents",
   "title_sidebar": "Contents",
   "toc_cell": false,
   "toc_position": {},
   "toc_section_display": true,
   "toc_window_display": false
  }
 },
 "nbformat": 4,
 "nbformat_minor": 2
}
